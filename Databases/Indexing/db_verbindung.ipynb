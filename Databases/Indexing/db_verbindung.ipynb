{
 "cells": [
  {
   "cell_type": "code",
   "execution_count": null,
   "metadata": {},
   "outputs": [],
   "source": [
    "import psycopg2 as pg\n",
    "import pandas as pd\n",
    "import pandas.io.sql as psql"
   ]
  },
  {
   "cell_type": "code",
   "execution_count": null,
   "metadata": {},
   "outputs": [],
   "source": [
    "db = {\n",
    "    'HOST': 'localhost',\n",
    "    'PORT': '1283',\n",
    "    'NAME': 'postgres',\n",
    "    'USER': 'postgres'\n",
    "}"
   ]
  },
  {
   "cell_type": "code",
   "execution_count": null,
   "metadata": {},
   "outputs": [],
   "source": [
    "def query_db(query):\n",
    "    str_conn = f\"dbname='{db['NAME']}' user='{db['USER']}' host='{db['HOST']}' port='{db['PORT']}'\"\n",
    "\n",
    "    try:\n",
    "        conn = pg.connect(str_conn)\n",
    "        cur = conn.cursor()        \n",
    "    except:\n",
    "        print(\"Cannot connect to database.\")\n",
    "\n",
    "    cur.execute(query)\n",
    "    conn.commit()\n",
    "    \n",
    "query_db(\"DROP TABLE IF EXISTS cards\")\n",
    "query_db(\"CREATE TABLE cards(number varchar, suit varchar)\")\n",
    "query_db(\"INSERT INTO cards VALUES ('Ace', 'Clubs')\")\n",
    "query_db(\"INSERT INTO cards VALUES ('King', 'Spades')\")\n",
    "query_db(\"INSERT INTO cards VALUES ('Queen', 'Hearts')\")\n",
    "query_db(\"INSERT INTO cards VALUES ('Jack', 'Diamonds')\")\n",
    "# query_db(\"DELETE FROM cards\")"
   ]
  },
  {
   "cell_type": "markdown",
   "metadata": {},
   "source": [
    "## Reading sql in pandsas"
   ]
  },
  {
   "cell_type": "code",
   "execution_count": null,
   "metadata": {},
   "outputs": [],
   "source": [
    "str_conn = f\"dbname='{db['NAME']}' user='{db['USER']}' host='{db['HOST']}' port='{db['PORT']}'\"\n",
    "try:\n",
    "    conn = pg.connect(str_conn) # password='dbpass'\")\n",
    "except:\n",
    "    print(\"Cannot connect to database.\")\n",
    "    \n",
    "query = \"\"\"SELECT * FROM cards LIMIT 5\"\"\"\n",
    "df = psql.read_sql(query, conn)\n",
    "\n",
    "df.head()"
   ]
  },
  {
   "cell_type": "markdown",
   "metadata": {},
   "source": [
    "## Get results as a list"
   ]
  },
  {
   "cell_type": "code",
   "execution_count": null,
   "metadata": {},
   "outputs": [],
   "source": [
    "str_conn = f\"dbname='{db['NAME']}' user='{db['USER']}' host='{db['HOST']}' port='{db['PORT']}'\"\n",
    "# print(str_conn)\n",
    "try:\n",
    "    conn = pg.connect(str_conn) # password='dbpass'\")\n",
    "except:\n",
    "    print(\"Cannot connect to database.\")\n",
    "    \n",
    "cur = conn.cursor()\n",
    "cur.execute(query)\n",
    "rows = cur.fetchall()\n",
    "\n",
    "for row in rows[0:2]:\n",
    "    print(row[0], \"\\t\", row[1])"
   ]
  },
  {
   "cell_type": "markdown",
   "metadata": {},
   "source": [
    "## Insert data into table"
   ]
  },
  {
   "cell_type": "code",
   "execution_count": null,
   "metadata": {},
   "outputs": [],
   "source": [
    "# query = f\"\"\"BEGIN;INSERT INTO cards VALUES ('1', 'Spades');COMMIT;\"\"\"\n",
    "def query_db(query):\n",
    "    str_conn = f\"dbname='{db['NAME']}' user='{db['USER']}' host='{db['HOST']}' port='{db['PORT']}'\"\n",
    "\n",
    "    try:\n",
    "        conn = pg.connect(str_conn)\n",
    "    except:\n",
    "        print(\"Cannot connect to database.\")\n",
    "\n",
    "    cur = conn.cursor()\n",
    "    cur.execute(query)\n",
    "    conn.commit()\n",
    "\n",
    "suit = ['Diamonds', 'Clubs', 'Hearts', 'Spades']\n",
    "N = 50000\n",
    "numbers = []\n",
    "suits = []\n",
    "for s in suit:\n",
    "    for i in range(1,N+1):\n",
    "        numbers.append(str(i))\n",
    "        suits.append(s)\n",
    "\n",
    "df = pd.DataFrame({'number':numbers, 'suit':suits})\n",
    "df['values'] = \"('\" + df['number'] + \"', '\" + df['suit'] + \"')\" \n",
    "\n",
    "df = df.sample(frac = 1).reset_index(drop = True)\n",
    "cards = \",\\n\".join(list(df['values']))\n",
    "query = f\"\"\"INSERT INTO cards VALUES {cards};\"\"\"\n",
    "query_db(query)"
   ]
  },
  {
   "cell_type": "markdown",
   "metadata": {},
   "source": [
    "# Avg time before & after indexing"
   ]
  },
  {
   "cell_type": "code",
   "execution_count": null,
   "metadata": {},
   "outputs": [],
   "source": [
    "from time import time\n",
    "import statistics as s\n",
    "\n",
    "def mean_query():\n",
    "    t = []\n",
    "    for _ in range(200):\n",
    "        start = time()\n",
    "#         query = \"\"\"SELECT * FROM cards WHERE number = '100' AND suit = 'Clubs'\"\"\"\n",
    "#         query = \"\"\"SELECT * FROM cards WHERE suit = 'Clubs'\"\"\"\n",
    "        query = \"\"\"SELECT * FROM cards WHERE number = '100'\"\"\"\n",
    "        df = psql.read_sql(query, conn)\n",
    "        end = time() - start\n",
    "        t.append(end)\n",
    "    return s.mean(t)\n",
    "\n",
    "before = mean_query()\n",
    "\n",
    "# Indexing\n",
    "# query = \"\"\"CREATE INDEX col ON cards(suit);\"\"\"\n",
    "# query = \"\"\"CREATE INDEX unq_card ON cards(number, suit);\"\"\"\n",
    "query = \"\"\"CREATE INDEX num ON cards(number);\"\"\"\n",
    "query_db(query)\n",
    "\n",
    "after = mean_query()\n",
    "print(f\"Before indexing {before}\")\n",
    "print(f\"After indexing {after}\")    "
   ]
  },
  {
   "cell_type": "markdown",
   "metadata": {},
   "source": [
    "## indexing.py"
   ]
  },
  {
   "cell_type": "code",
   "execution_count": null,
   "metadata": {},
   "outputs": [],
   "source": [
    "import psycopg2 as pg\n",
    "import pandas as pd\n",
    "import pandas.io.sql as psql\n",
    "import statistics\n",
    "from time import time\n",
    "\n",
    "# Connection string info\n",
    "db = {\n",
    "    'HOST': 'localhost',\n",
    "    'PORT': '1283',\n",
    "    'NAME': 'postgres',\n",
    "    'USER': 'postgres'\n",
    "}\n",
    "\n",
    "\n",
    "def query_db(query):\n",
    "    str_conn = f\"dbname='{db['NAME']}' user='{db['USER']}' host='{db['HOST']}' port='{db['PORT']}'\"\n",
    "\n",
    "    try:\n",
    "        conn = pg.connect(str_conn)\n",
    "        cur = conn.cursor()        \n",
    "    except:\n",
    "        print(\"Cannot connect to database.\")\n",
    "\n",
    "    cur.execute(query)\n",
    "    conn.commit()\n",
    "\n",
    "# Create table cards\n",
    "\n",
    "query_db(\"CREATE TABLE cards(number varchar, suit varchar)\")\n",
    "print(\"Created table cards!\")\n",
    "# Insert data into the table \n",
    "\n",
    "suit = ['Diamonds', 'Clubs', 'Hearts', 'Spades']\n",
    "N = 50000\n",
    "numbers = []\n",
    "suits = []\n",
    "for s in suit:\n",
    "    for i in range(1,N+1):\n",
    "        numbers.append(str(i))\n",
    "        suits.append(s)\n",
    "\n",
    "df = pd.DataFrame({'number':numbers, 'suit':suits})\n",
    "df['values'] = \"('\" + df['number'] + \"', '\" + df['suit'] + \"')\" \n",
    "df = df.sample(frac = 1).reset_index(drop = True)\n",
    "cards = \",\\n\".join(list(df['values']))\n",
    "\n",
    "query = f\"\"\"INSERT INTO cards VALUES {cards};\"\"\"\n",
    "query_db(query)\n",
    "print(\"Data inserted in the table . . .\")\n",
    "\n",
    "def mean_query():\n",
    "    try:\n",
    "        str_conn = f\"dbname='{db['NAME']}' user='{db['USER']}' host='{db['HOST']}' port='{db['PORT']}'\"\n",
    "        conn = pg.connect(str_conn)\n",
    "        cur = conn.cursor()        \n",
    "    except:\n",
    "        print(\"Cannot connect to database.\")\n",
    "\n",
    "    t = []\n",
    "    for _ in range(200):\n",
    "        start = time()\n",
    "        # query = \"\"\"SELECT * FROM cards WHERE number = '100' AND suit = 'Clubs'\"\"\"\n",
    "        query = \"\"\"SELECT * FROM cards WHERE number = '100'\"\"\"\n",
    "        df = psql.read_sql(query, conn)\n",
    "        end = time() - start\n",
    "        t.append(end)\n",
    "    return statistics.mean(t)\n",
    "\n",
    "\n",
    "before = mean_query()\n",
    "\n",
    "# Indexing\n",
    "# query = \"\"\"CREATE INDEX col ON cards(suit);\"\"\"\n",
    "query = \"\"\"CREATE INDEX unq_card ON cards(number, suit);\"\"\"\n",
    "# query = \"\"\"CREATE INDEX num ON cards(number);\"\"\"\n",
    "query_db(query)\n",
    "\n",
    "after = mean_query()\n",
    "\n",
    "print(f\"Average time for query BEFORE indexing: {before}\")\n",
    "print(f\"Average time for query AFTER indexing {after}\")    "
   ]
  }
 ],
 "metadata": {
  "kernelspec": {
   "display_name": "Python 3",
   "language": "python",
   "name": "python3"
  },
  "language_info": {
   "codemirror_mode": {
    "name": "ipython",
    "version": 3
   },
   "file_extension": ".py",
   "mimetype": "text/x-python",
   "name": "python",
   "nbconvert_exporter": "python",
   "pygments_lexer": "ipython3",
   "version": "3.7.5"
  }
 },
 "nbformat": 4,
 "nbformat_minor": 2
}
